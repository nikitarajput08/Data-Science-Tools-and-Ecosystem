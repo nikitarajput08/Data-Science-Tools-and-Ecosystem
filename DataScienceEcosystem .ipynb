{
 "cells": [
  {
   "cell_type": "markdown",
   "id": "c2563db9",
   "metadata": {},
   "source": [
    "# Data Science Tools and Ecosystem"
   ]
  },
  {
   "cell_type": "markdown",
   "id": "90ba97ec",
   "metadata": {},
   "source": [
    "In this notebook, Data Science Tools and Ecosystem are summarized."
   ]
  },
  {
   "cell_type": "markdown",
   "id": "ea34eae6",
   "metadata": {},
   "source": [
    "Some of the popular languages that Data Scientists use are:\n",
    "1. Python\n",
    "2. R\n",
    "3. SQL\n",
    "4. C++\n",
    "5. Java rtc..;"
   ]
  },
  {
   "cell_type": "markdown",
   "id": "6957ca3c",
   "metadata": {},
   "source": [
    "Some of the commonly used libraries used by Data Scientists include:\n",
    "1. TenserFlow.\n",
    "2. NumPy.\n",
    "3. SciPy.\n",
    "4. Pandas.\n",
    "5. Matplotlib.\n",
    "6. Keras.\n",
    "7. Scikit-Learn.\n",
    "8. PyTorch. etc..;"
   ]
  },
  {
   "cell_type": "markdown",
   "id": "3befcb7b",
   "metadata": {},
   "source": [
    "|Data Science Tools|\n",
    "|---|\n",
    "|SAS|\n",
    "|Apache Hadoop|\n",
    "|TenserFlow|"
   ]
  },
  {
   "cell_type": "markdown",
   "id": "1a963a17",
   "metadata": {},
   "source": [
    "### Below are a few examples of evaluating arithmetic expression in python."
   ]
  },
  {
   "cell_type": "code",
   "execution_count": 1,
   "id": "bd036b08",
   "metadata": {},
   "outputs": [
    {
     "data": {
      "text/plain": [
       "17"
      ]
     },
     "execution_count": 1,
     "metadata": {},
     "output_type": "execute_result"
    }
   ],
   "source": [
    "#this is a common arithmetic example to multiply and then add integers\n",
    "(3*4)+5"
   ]
  },
  {
   "cell_type": "code",
   "execution_count": 2,
   "id": "09de81c3",
   "metadata": {},
   "outputs": [
    {
     "data": {
      "text/plain": [
       "3.3333333333333335"
      ]
     },
     "execution_count": 2,
     "metadata": {},
     "output_type": "execute_result"
    }
   ],
   "source": [
    "#this will convert 200 minutes to hours by dividing by 60\n",
    "200/60"
   ]
  },
  {
   "cell_type": "markdown",
   "id": "901143ad",
   "metadata": {},
   "source": [
    "__Objectives__\n",
    "* List popular languages for Data Science\n",
    "* List popular libraries for Data Science\n",
    "* List of Well know Data Science Tools\n",
    "* How to provide comment in the cell"
   ]
  },
  {
   "cell_type": "markdown",
   "id": "ef2caf2a",
   "metadata": {},
   "source": [
    "## Author\n",
    "Nikita Rajput"
   ]
  },
  {
   "cell_type": "code",
   "execution_count": null,
   "id": "9856dfb7",
   "metadata": {},
   "outputs": [],
   "source": []
  }
 ],
 "metadata": {
  "kernelspec": {
   "display_name": "Python 3 (ipykernel)",
   "language": "python",
   "name": "python3"
  },
  "language_info": {
   "codemirror_mode": {
    "name": "ipython",
    "version": 3
   },
   "file_extension": ".py",
   "mimetype": "text/x-python",
   "name": "python",
   "nbconvert_exporter": "python",
   "pygments_lexer": "ipython3",
   "version": "3.11.4"
  }
 },
 "nbformat": 4,
 "nbformat_minor": 5
}
